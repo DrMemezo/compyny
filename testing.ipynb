{
 "cells": [
  {
   "cell_type": "code",
   "execution_count": 15,
   "metadata": {},
   "outputs": [
    {
     "name": "stdout",
     "output_type": "stream",
     "text": [
      "['common', 'uncommon', 'rare', 'rare', 'common', 'skip', 'rare', 'common', 'common', 'common', 'common', 'common', 'skip', 'skip', 'skip', 'uncommon', 'common', 'rare', 'skip', 'common', 'common', 'uncommon', 'uncommon', 'common', 'skip', 'uncommon', 'skip', 'skip', 'uncommon', 'rare']\n"
     ]
    }
   ],
   "source": [
    "import random\n",
    "\n",
    "tries = []\n",
    "for _ in range(30):\n",
    "    chance = random.randint(1, 100)\n",
    "\n",
    "    if chance < 15: # \"rare\" has a 15% chance\n",
    "        rarity = \"rare\"\n",
    "    elif chance < 45: # \"uncommon\" has a 45% chance\n",
    "        rarity = \"uncommon\"\n",
    "    elif chance < 85: # \"common\" has a 85% chance\n",
    "        rarity = \"common\"\n",
    "    else:\n",
    "        rarity = \"skip\"\n",
    "    tries.append(rarity)\n",
    "\n",
    "print(tries)\n",
    "\n"
   ]
  },
  {
   "cell_type": "code",
   "execution_count": 34,
   "metadata": {},
   "outputs": [
    {
     "data": {
      "text/html": [
       "<pre style=\"white-space:pre;overflow-x:auto;line-height:normal;font-family:Menlo,'DejaVu Sans Mono',consolas,'Courier New',monospace\"><span style=\"color: #00ffff; text-decoration-color: #00ffff; font-weight: bold\">eeee</span>\n",
       "</pre>\n"
      ],
      "text/plain": [
       "\u001b[1;96meeee\u001b[0m\n"
      ]
     },
     "metadata": {},
     "output_type": "display_data"
    }
   ],
   "source": [
    "from rich.console import Console\n",
    "\n",
    "console = Console()\n",
    "\n",
    "console.print(\"eeee\", style=\" bold bright_cyan\")"
   ]
  },
  {
   "cell_type": "code",
   "execution_count": 7,
   "metadata": {},
   "outputs": [
    {
     "name": "stdout",
     "output_type": "stream",
     "text": [
      "2\n",
      "0\n",
      "1\n"
     ]
    }
   ],
   "source": [
    "class CLASS:\n",
    "    def __init__(self) -> None:\n",
    "        pass\n",
    "\n",
    "    CHOICES = {\n",
    "        0: \"0\",\n",
    "        1: \"1\",\n",
    "        2: \"2\",\n",
    "        3: \"3\"\n",
    "    }\n",
    "\n",
    "    choice = 1\n",
    "    def __next__(self):\n",
    "        self.choice = (self.choice + 1) % 3        \n",
    "        if not 0 <= self.choice <= 3:\n",
    "            raise ValueError(\"Bad choice given\")\n",
    "\n",
    "        return self.CHOICES[self.choice]\n",
    "\n",
    "test = CLASS()\n",
    "print(next(test))\n",
    "print(next(test))\n",
    "print(next(test))\n"
   ]
  },
  {
   "cell_type": "code",
   "execution_count": null,
   "metadata": {},
   "outputs": [],
   "source": []
  }
 ],
 "metadata": {
  "kernelspec": {
   "display_name": "Python 3",
   "language": "python",
   "name": "python3"
  },
  "language_info": {
   "codemirror_mode": {
    "name": "ipython",
    "version": 3
   },
   "file_extension": ".py",
   "mimetype": "text/x-python",
   "name": "python",
   "nbconvert_exporter": "python",
   "pygments_lexer": "ipython3",
   "version": "3.11.4"
  }
 },
 "nbformat": 4,
 "nbformat_minor": 2
}
