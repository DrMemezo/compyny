{
 "cells": [
  {
   "cell_type": "code",
   "execution_count": 15,
   "metadata": {},
   "outputs": [
    {
     "name": "stdout",
     "output_type": "stream",
     "text": [
      "['common', 'uncommon', 'rare', 'rare', 'common', 'skip', 'rare', 'common', 'common', 'common', 'common', 'common', 'skip', 'skip', 'skip', 'uncommon', 'common', 'rare', 'skip', 'common', 'common', 'uncommon', 'uncommon', 'common', 'skip', 'uncommon', 'skip', 'skip', 'uncommon', 'rare']\n"
     ]
    }
   ],
   "source": [
    "import random\n",
    "\n",
    "tries = []\n",
    "for _ in range(30):\n",
    "    chance = random.randint(1, 100)\n",
    "\n",
    "    if chance < 15: # \"rare\" has a 15% chance\n",
    "        rarity = \"rare\"\n",
    "    elif chance < 45: # \"uncommon\" has a 45% chance\n",
    "        rarity = \"uncommon\"\n",
    "    elif chance < 85: # \"common\" has a 85% chance\n",
    "        rarity = \"common\"\n",
    "    else:\n",
    "        rarity = \"skip\"\n",
    "    tries.append(rarity)\n",
    "\n",
    "print(tries)\n",
    "\n"
   ]
  }
 ],
 "metadata": {
  "kernelspec": {
   "display_name": "Python 3",
   "language": "python",
   "name": "python3"
  },
  "language_info": {
   "codemirror_mode": {
    "name": "ipython",
    "version": 3
   },
   "file_extension": ".py",
   "mimetype": "text/x-python",
   "name": "python",
   "nbconvert_exporter": "python",
   "pygments_lexer": "ipython3",
   "version": "3.11.4"
  }
 },
 "nbformat": 4,
 "nbformat_minor": 2
}
